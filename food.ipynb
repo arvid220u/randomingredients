{
 "cells": [
  {
   "cell_type": "markdown",
   "metadata": {},
   "source": [
    "# Food Generator"
   ]
  },
  {
   "cell_type": "markdown",
   "metadata": {},
   "source": [
    "Every day, generate a list of 10 random ingredients. Goal: cook something delicious using only those ingredients.\n",
    "\n",
    "The first month or two, allow yourself to look up recipes. However, always think a little about what can be done, before googling.\n",
    "\n",
    "The last month, you should be good enough at cooking that you can come up with something delicious by yourself."
   ]
  },
  {
   "cell_type": "markdown",
   "metadata": {},
   "source": [
    "Every day, I will also get 3 options of the 7 random ingredients."
   ]
  },
  {
   "cell_type": "markdown",
   "metadata": {},
   "source": [
    "Uses data from Instacart: https://www.kaggle.com/c/instacart-market-basket-analysis/data."
   ]
  },
  {
   "cell_type": "code",
   "execution_count": 23,
   "metadata": {},
   "outputs": [],
   "source": [
    "using Plots\n",
    "\n",
    "using DataFrames\n",
    "\n",
    "using CSV\n",
    "\n",
    "products = CSV.read(\"instacart-market-basket-analysis/products.csv\");\n",
    "\n",
    "departments = CSV.read(\"instacart-market-basket-analysis/departments.csv\");\n",
    "\n",
    "aisles = CSV.read(\"instacart-market-basket-analysis/aisles.csv\");\n",
    "\n",
    "get_department_id(category_string) = departments[departments.department .== category_string, :department_id][1]\n",
    "\n",
    "get_products_in_department(department) = products[products.department_id .== get_department_id(department), :]\n",
    "\n",
    "excluded_departments = [\"frozen\", \n",
    "    \"pets\", \"personal care\", \"meat seafood\", \"household\", \"babies\"];\n",
    "\n",
    "included_products = products[\n",
    "    indexin(products.department_id, \n",
    "        [get_department_id(x) for x in excluded_departments]) .== nothing, \n",
    "    :];\n",
    "\n",
    "\n",
    "function get_random_product(products)\n",
    "    maxvalue = size(products)[1]\n",
    "    return products[rand(1:maxvalue), :]\n",
    "end\n",
    "\n",
    "function get_random_products(products, N)\n",
    "    return DataFrame([get_random_product(products) for i in 1:N])\n",
    "end\n",
    "\n",
    "essential_departments = [\"produce\", \n",
    "    \"dry goods pasta\", \"dairy eggs\", \"canned goods\"]\n",
    "\n",
    "essential_products = products[\n",
    "    indexin(products.department_id, \n",
    "        [get_department_id(x) for x in essential_departments]) .!= nothing, \n",
    "    :];\n",
    "\n",
    "only_produce = [\"produce\"]\n",
    "\n",
    "produce_products = products[\n",
    "    indexin(products.department_id, \n",
    "        [get_department_id(x) for x in only_produce]) .!= nothing, \n",
    "    :];"
   ]
  },
  {
   "cell_type": "markdown",
   "metadata": {},
   "source": [
    "Rules:\n",
    "\n",
    "1. Do two batches of 7 random products each, and choose one.\n",
    "1. If anything non-vegetarian shows up, immediately redo it."
   ]
  },
  {
   "cell_type": "code",
   "execution_count": 1,
   "metadata": {},
   "outputs": [
    {
     "ename": "UndefVarError",
     "evalue": "UndefVarError: get_random_products not defined",
     "output_type": "error",
     "traceback": [
      "UndefVarError: get_random_products not defined",
      "",
      "Stacktrace:",
      " [1] top-level scope at In[1]:1"
     ]
    }
   ],
   "source": [
    "get_random_products(produce_products, 7)"
   ]
  },
  {
   "cell_type": "code",
   "execution_count": 27,
   "metadata": {},
   "outputs": [
    {
     "data": {
      "text/html": [
       "<table class=\"data-frame\"><thead><tr><th></th><th>product_id</th><th>product_name</th><th>aisle_id</th><th>department_id</th></tr><tr><th></th><th>Int64</th><th>String</th><th>Int64</th><th>Int64</th></tr></thead><tbody><p>7 rows × 4 columns</p><tr><th>1</th><td>27174</td><td>Dry Arbol Peppers</td><td>16</td><td>4</td></tr><tr><th>2</th><td>6647</td><td>Navel Orange</td><td>24</td><td>4</td></tr><tr><th>3</th><td>45254</td><td>Organic Gala Apple</td><td>24</td><td>4</td></tr><tr><th>4</th><td>21334</td><td>Organic Peeled Garlic</td><td>123</td><td>4</td></tr><tr><th>5</th><td>47937</td><td>White Wine and Balsamic Vinegar Flavored Beets</td><td>123</td><td>4</td></tr><tr><th>6</th><td>39247</td><td>Mango</td><td>24</td><td>4</td></tr><tr><th>7</th><td>21403</td><td>Lemon Grass</td><td>16</td><td>4</td></tr></tbody></table>"
      ],
      "text/latex": [
       "\\begin{tabular}{r|cccc}\n",
       "\t& product\\_id & product\\_name & aisle\\_id & department\\_id\\\\\n",
       "\t\\hline\n",
       "\t& Int64 & String & Int64 & Int64\\\\\n",
       "\t\\hline\n",
       "\t1 & 27174 & Dry Arbol Peppers & 16 & 4 \\\\\n",
       "\t2 & 6647 & Navel Orange & 24 & 4 \\\\\n",
       "\t3 & 45254 & Organic Gala Apple & 24 & 4 \\\\\n",
       "\t4 & 21334 & Organic Peeled Garlic & 123 & 4 \\\\\n",
       "\t5 & 47937 & White Wine and Balsamic Vinegar Flavored Beets & 123 & 4 \\\\\n",
       "\t6 & 39247 & Mango & 24 & 4 \\\\\n",
       "\t7 & 21403 & Lemon Grass & 16 & 4 \\\\\n",
       "\\end{tabular}\n"
      ],
      "text/plain": [
       "7×4 DataFrame. Omitted printing of 1 columns\n",
       "│ Row │ product_id │ product_name                                   │ aisle_id │\n",
       "│     │ \u001b[90mInt64\u001b[39m      │ \u001b[90mString\u001b[39m                                         │ \u001b[90mInt64\u001b[39m    │\n",
       "├─────┼────────────┼────────────────────────────────────────────────┼──────────┤\n",
       "│ 1   │ 27174      │ Dry Arbol Peppers                              │ 16       │\n",
       "│ 2   │ 6647       │ Navel Orange                                   │ 24       │\n",
       "│ 3   │ 45254      │ Organic Gala Apple                             │ 24       │\n",
       "│ 4   │ 21334      │ Organic Peeled Garlic                          │ 123      │\n",
       "│ 5   │ 47937      │ White Wine and Balsamic Vinegar Flavored Beets │ 123      │\n",
       "│ 6   │ 39247      │ Mango                                          │ 24       │\n",
       "│ 7   │ 21403      │ Lemon Grass                                    │ 16       │"
      ]
     },
     "execution_count": 27,
     "metadata": {},
     "output_type": "execute_result"
    }
   ],
   "source": [
    "get_random_products(produce_products, 7)"
   ]
  },
  {
   "cell_type": "code",
   "execution_count": null,
   "metadata": {},
   "outputs": [],
   "source": []
  }
 ],
 "metadata": {
  "kernelspec": {
   "display_name": "Julia 1.4.0",
   "language": "julia",
   "name": "julia-1.4"
  },
  "language_info": {
   "file_extension": ".jl",
   "mimetype": "application/julia",
   "name": "julia",
   "version": "1.4.0"
  }
 },
 "nbformat": 4,
 "nbformat_minor": 4
}
